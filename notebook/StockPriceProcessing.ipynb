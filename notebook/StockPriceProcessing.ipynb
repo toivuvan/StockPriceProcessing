{
 "cells": [
  {
   "cell_type": "markdown",
   "id": "7a372762-bf75-4c1a-92d8-acd1d4e35e25",
   "metadata": {},
   "source": [
    "# 1. Thực hiện đọc dữ liệu từ HDFS"
   ]
  },
  {
   "cell_type": "code",
   "execution_count": 1,
   "id": "2487f649-60eb-448b-98de-d83f61f6dbcf",
   "metadata": {},
   "outputs": [
    {
     "name": "stdout",
     "output_type": "stream",
     "text": [
      "3.2.1\n"
     ]
    }
   ],
   "source": [
    "import pyspark\n",
    "print(pyspark.__version__)"
   ]
  },
  {
   "cell_type": "code",
   "execution_count": 2,
   "id": "3d6ded2f-3587-487c-9a1b-2fdb127efa33",
   "metadata": {},
   "outputs": [
    {
     "name": "stdout",
     "output_type": "stream",
     "text": [
      "Connection successful!\n"
     ]
    }
   ],
   "source": [
    "import socket\n",
    "\n",
    "s = socket.socket(socket.AF_INET, socket.SOCK_STREAM)\n",
    "try:\n",
    "    s.connect((\"spark-master\", 7077))\n",
    "    print(\"Connection successful!\")\n",
    "except Exception as e:\n",
    "    print(\"Connection failed:\", e)\n",
    "finally:\n",
    "    s.close()"
   ]
  },
  {
   "cell_type": "code",
   "execution_count": 3,
   "id": "fd284be5-db43-4b07-8627-511b5daf81cc",
   "metadata": {},
   "outputs": [
    {
     "name": "stdout",
     "output_type": "stream",
     "text": [
      "3.2.1\n",
      "spark://spark-master:7077\n"
     ]
    }
   ],
   "source": [
    "from pyspark.sql import SparkSession\n",
    "from pyspark.sql.functions import input_file_name, regexp_extract\n",
    "import pyspark.sql.functions as F\n",
    "from pyspark.sql.window import Window\n",
    "from pyspark.sql import SparkSession\n",
    "from pyspark import SparkContext\n",
    "\n",
    "\n",
    "spark = (\n",
    "    SparkSession.builder\n",
    "    .appName(\"stock_bigdata\")\n",
    "    .master(\"spark://spark-master:7077\") \n",
    "    .getOrCreate()\n",
    ")\n",
    "\n",
    "print(spark.version)\n",
    "print(spark.sparkContext.master)"
   ]
  },
  {
   "cell_type": "code",
   "execution_count": 4,
   "id": "2cd561b6-638d-4aa3-ada2-7adb36e958ab",
   "metadata": {},
   "outputs": [
    {
     "data": {
      "text/html": [
       "\n",
       "            <div>\n",
       "                <p><b>SparkSession - in-memory</b></p>\n",
       "                \n",
       "        <div>\n",
       "            <p><b>SparkContext</b></p>\n",
       "\n",
       "            <p><a href=\"http://a533ed5641d5:4040\">Spark UI</a></p>\n",
       "\n",
       "            <dl>\n",
       "              <dt>Version</dt>\n",
       "                <dd><code>v3.2.1</code></dd>\n",
       "              <dt>Master</dt>\n",
       "                <dd><code>spark://spark-master:7077</code></dd>\n",
       "              <dt>AppName</dt>\n",
       "                <dd><code>stock_bigdata</code></dd>\n",
       "            </dl>\n",
       "        </div>\n",
       "        \n",
       "            </div>\n",
       "        "
      ],
      "text/plain": [
       "<pyspark.sql.session.SparkSession at 0x75f9f5f9fd60>"
      ]
     },
     "execution_count": 4,
     "metadata": {},
     "output_type": "execute_result"
    }
   ],
   "source": [
    "spark"
   ]
  },
  {
   "cell_type": "code",
   "execution_count": 5,
   "id": "a87b5175-eefe-4324-85cd-d8dba49e3df8",
   "metadata": {},
   "outputs": [
    {
     "name": "stdout",
     "output_type": "stream",
     "text": [
      "root\n",
      " |-- time: date (nullable = true)\n",
      " |-- open: double (nullable = true)\n",
      " |-- high: double (nullable = true)\n",
      " |-- low: double (nullable = true)\n",
      " |-- close: double (nullable = true)\n",
      " |-- volume: integer (nullable = true)\n",
      " |-- ticker: string (nullable = false)\n",
      "\n",
      "+----------+-----+-----+-----+-----+-------+------+\n",
      "|      time| open| high|  low|close| volume|ticker|\n",
      "+----------+-----+-----+-----+-----+-------+------+\n",
      "|2010-01-04|12.95|12.95|12.95|12.95| 247810|   CII|\n",
      "|2010-01-05|13.59|13.59|13.59|13.59| 288720|   CII|\n",
      "|2010-01-06|14.22|14.22| 13.9|14.22|1306580|   CII|\n",
      "|2010-01-07|14.43|14.85|14.11|14.43|2804340|   CII|\n",
      "|2010-01-08|14.53|14.64| 13.9| 13.9|1504570|   CII|\n",
      "|2010-01-11|14.22|14.22|13.59|13.59| 629400|   CII|\n",
      "|2010-01-12|13.59|13.69|12.95|12.95| 762290|   CII|\n",
      "|2010-01-13|12.95|13.17|12.43|13.06|1180890|   CII|\n",
      "|2010-01-14|13.71|13.71|13.71|13.71|  41960|   CII|\n",
      "|2010-01-15|14.39|14.39|14.29|14.39|2314920|   CII|\n",
      "|2010-01-18|14.13|14.13|13.68|13.68| 977220|   CII|\n",
      "|2010-01-19|13.68|13.91|13.49|13.49| 720030|   CII|\n",
      "|2010-01-20|13.75|13.75|13.39|13.42| 403860|   CII|\n",
      "|2010-01-21|13.01|13.39|12.78|12.78| 794460|   CII|\n",
      "|2010-01-22|12.24|12.81|12.17|12.36|1003320|   CII|\n",
      "|2010-01-25|12.52|12.65| 12.2|12.46| 305720|   CII|\n",
      "|2010-01-26|12.78|13.07|12.78|13.07| 886390|   CII|\n",
      "|2010-01-27|13.17|13.33|12.52|12.69| 592510|   CII|\n",
      "|2010-01-28|12.69|12.75|12.46|12.52| 285240|   CII|\n",
      "|2010-01-29|12.52|12.78|12.27|12.52| 246990|   CII|\n",
      "+----------+-----+-----+-----+-----+-------+------+\n",
      "only showing top 20 rows\n",
      "\n"
     ]
    }
   ],
   "source": [
    "data_path = \"hdfs://namenode:9000/data/*.csv\"\n",
    "df = spark.read.option(\"header\", True).option(\"inferSchema\", True).csv(data_path)\n",
    "\n",
    "df = df.withColumn(\"time\", F.to_date(\"time\", \"yyyy-MM-dd\"))\n",
    "df = df.withColumn(\"ticker\", regexp_extract(input_file_name(), r\"([^/]+)\\.csv$\", 1))\n",
    "df.printSchema()\n",
    "df.show()"
   ]
  },
  {
   "cell_type": "markdown",
   "id": "ff8a59ed-08a8-43ca-9fef-bfd74d71e266",
   "metadata": {},
   "source": [
    "# 2. Thống kê mô tả chung "
   ]
  },
  {
   "cell_type": "markdown",
   "id": "488fe3f8-eeec-4280-b9a9-48efd52faaad",
   "metadata": {},
   "source": [
    "Thực hiện việc khám phá dữ liệu tổng quan ban đầu qua hàm summary() (bao gồm count , mean, stddev,...)"
   ]
  },
  {
   "cell_type": "code",
   "execution_count": 6,
   "id": "288bab00-4282-4919-bd44-cef299239275",
   "metadata": {},
   "outputs": [
    {
     "name": "stdout",
     "output_type": "stream",
     "text": [
      "+-------+------------------+------------------+------------------+------------------+------------------+\n",
      "|summary|open              |high              |low               |close             |volume            |\n",
      "+-------+------------------+------------------+------------------+------------------+------------------+\n",
      "|count  |4400101           |4400061           |4400061           |4400060           |4400101           |\n",
      "|mean   |12.95034035355092 |13.083267059252044|12.79381014945016 |12.949878106207564|328725.8568994212 |\n",
      "|stddev |18.789752069983088|18.990656300827915|18.590629554462556|18.793004270793418|1964588.9818515815|\n",
      "|min    |0.0               |0.0               |0.0               |0.0               |0                 |\n",
      "|25%    |4.4               |4.42              |4.3               |4.39              |0                 |\n",
      "|50%    |8.2               |8.3               |8.1               |8.2               |1500              |\n",
      "|75%    |14.86             |15.01             |14.68             |14.87             |45170             |\n",
      "|max    |1562.5            |1562.5            |1358.7            |1358.7            |249760712         |\n",
      "+-------+------------------+------------------+------------------+------------------+------------------+\n",
      "\n"
     ]
    }
   ],
   "source": [
    "summary_all = df.select(\"open\", \"high\", \"low\", \"close\", \"volume\").summary()\n",
    "summary_all.show(truncate=False)"
   ]
  },
  {
   "cell_type": "markdown",
   "id": "35303b20-86da-4458-bece-843b4393cea0",
   "metadata": {},
   "source": [
    "## So sánh các mã theo trung bình giá và khối lượng"
   ]
  },
  {
   "cell_type": "markdown",
   "id": "7e4cb3fb-1606-49df-8cc1-fd9c730cce6f",
   "metadata": {},
   "source": [
    "So sánh các thống kê cơ bản cho từng mã cổ phiếu, như giá trung bình, độ biến động, giá cao/thấp nhất và khối lượng giao dịch trung bình, sau đó xếp hạng các cổ phiếu theo giá đóng cửa trung bình cao nhất."
   ]
  },
  {
   "cell_type": "code",
   "execution_count": 7,
   "id": "05e030f5-5bd4-4c21-a110-24455e6b967d",
   "metadata": {},
   "outputs": [
    {
     "name": "stdout",
     "output_type": "stream",
     "text": [
      "+------+-----+------------------+------------------+---------+---------+------------------+\n",
      "|ticker|count|avg_close         |std_close         |min_close|max_close|avg_volume        |\n",
      "+------+-----+------------------+------------------+---------+---------+------------------+\n",
      "|F88   |51   |1073.6882352941175|44.82081055518216 |888.8    |1180.0   |4317.64705882353  |\n",
      "|VNZ   |684  |569.5385964912274 |221.59933063923012|240.0    |1358.7   |2038.43567251462  |\n",
      "|IDP   |1046 |170.75557361376693|65.91339313268556 |42.31    |302.72   |1056.5181644359466|\n",
      "|XDC   |68   |168.4352941176471 |223.56510939482075|13.5     |999.9    |400.0             |\n",
      "|GAB   |1254 |162.26692185007704|58.19751617690133 |7.68     |196.9    |42740.47129186603 |\n",
      "|CMF   |2151 |156.12218503021822|70.86473565009824 |41.35    |390.4    |150.13621571362157|\n",
      "|HLB   |2125 |146.42398588235326|100.34450618699215|0.0      |430.0    |348.7854117647059 |\n",
      "|VCF   |3674 |117.52073761567779|57.81979664480004 |18.13    |334.98   |2194.047359825803 |\n",
      "|NTC   |2204 |116.43990471869311|64.84695182993673 |0.0      |240.81   |40947.05444646098 |\n",
      "|VJC   |2163 |114.92817383263952|21.1669132297023  |60.7     |184.84   |706195.1215903837 |\n",
      "+------+-----+------------------+------------------+---------+---------+------------------+\n",
      "only showing top 10 rows\n",
      "\n"
     ]
    }
   ],
   "source": [
    "stats_by_ticker = df.groupBy(\"ticker\").agg(\n",
    "    F.count(\"*\").alias(\"count\"),\n",
    "    F.mean(\"close\").alias(\"avg_close\"),\n",
    "    F.stddev(\"close\").alias(\"std_close\"),\n",
    "    F.min(\"close\").alias(\"min_close\"),\n",
    "    F.max(\"close\").alias(\"max_close\"),\n",
    "    F.mean(\"volume\").alias(\"avg_volume\")\n",
    ")\n",
    "\n",
    "stats_by_ticker.orderBy(F.desc(\"avg_close\")).show(10, truncate=False)"
   ]
  },
  {
   "cell_type": "markdown",
   "id": "41b0bc72-6c4c-43d4-90b0-1b93ee4f2bdb",
   "metadata": {},
   "source": [
    "## Đo “rủi ro” (độ biến động) của từng mã cổ phiếu."
   ]
  },
  {
   "cell_type": "markdown",
   "id": "f9273d71-faa7-4697-87e2-bee3c540345a",
   "metadata": {},
   "source": [
    "Tính lợi suất hằng ngày và độ biến động giá (volatility) của từng mã cổ phiếu, qua đó xác định những cổ phiếu có mức biến động mạnh nhất trên thị trường."
   ]
  },
  {
   "cell_type": "code",
   "execution_count": 8,
   "id": "c7cf6135-e5ea-4de0-8efb-81b9cf141932",
   "metadata": {},
   "outputs": [
    {
     "name": "stdout",
     "output_type": "stream",
     "text": [
      "+------+---------------------+-------------------+\n",
      "|ticker|avg_return           |volatility         |\n",
      "+------+---------------------+-------------------+\n",
      "|DNN   |0.10187643867728115  |1.7806845259321122 |\n",
      "|PTG   |0.022516605067223746 |0.6765261938940811 |\n",
      "|DKW   |0.3                  |0.4242640687119285 |\n",
      "|PTX   |0.020913662679470427 |0.33901377412467304|\n",
      "|XDC   |0.03479982616170331  |0.16189148574393228|\n",
      "|NS3   |-0.03406195964607938 |0.14718524296935043|\n",
      "|HHR   |0.0037616430465172443|0.14204573893335298|\n",
      "|SGS   |0.0030034968148438855|0.1303604999019848 |\n",
      "|DKG   |0.004405092030349224 |0.12843838980170094|\n",
      "|NSS   |0.004549897387364335 |0.11585282923734551|\n",
      "+------+---------------------+-------------------+\n",
      "only showing top 10 rows\n",
      "\n"
     ]
    }
   ],
   "source": [
    "from pyspark.sql.window import Window\n",
    "\n",
    "w = Window.partitionBy(\"ticker\").orderBy(\"time\")\n",
    "df = df.withColumn(\"prev_close\", F.lag(\"close\").over(w))\n",
    "df = df.withColumn(\"daily_return\", (F.col(\"close\") - F.col(\"prev_close\")) / F.col(\"prev_close\"))\n",
    "\n",
    "volatility = df.groupBy(\"ticker\").agg(\n",
    "    F.mean(\"daily_return\").alias(\"avg_return\"),\n",
    "    F.stddev(\"daily_return\").alias(\"volatility\")\n",
    ").orderBy(F.desc(\"volatility\"))\n",
    "\n",
    "volatility.show(10, truncate=False)"
   ]
  },
  {
   "cell_type": "markdown",
   "id": "413ba69a-1015-498a-98c5-7fd8a4736510",
   "metadata": {},
   "source": [
    "## Phân tích tăng trưởng dài hạn "
   ]
  },
  {
   "cell_type": "code",
   "execution_count": 9,
   "id": "810613ac-2c27-43d2-bd4d-3b8f99759837",
   "metadata": {},
   "outputs": [
    {
     "name": "stdout",
     "output_type": "stream",
     "text": [
      "+------+-----------+----------+------------------+\n",
      "|ticker|first_close|last_close|growth_rate       |\n",
      "+------+-----------+----------+------------------+\n",
      "|CAP   |0.35       |41.4      |117.28571428571429|\n",
      "|DHT   |1.13       |84.5      |73.77876106194691 |\n",
      "|TV2   |0.54       |33.7      |61.40740740740741 |\n",
      "|VE4   |5.06       |259.4     |50.26482213438735 |\n",
      "|DNC   |1.08       |51.0      |46.22222222222222 |\n",
      "|PTB   |1.24       |49.65     |39.04032258064516 |\n",
      "|PDN   |2.4        |93.5      |37.958333333333336|\n",
      "|THG   |1.43       |51.7      |35.15384615384616 |\n",
      "|L14   |0.96       |32.1      |32.4375           |\n",
      "|LHC   |3.07       |99.9      |31.540716612377857|\n",
      "+------+-----------+----------+------------------+\n",
      "only showing top 10 rows\n",
      "\n"
     ]
    }
   ],
   "source": [
    "growth = df.groupBy(\"ticker\").agg(\n",
    "    F.first(\"close\").alias(\"first_close\"),\n",
    "    F.last(\"close\").alias(\"last_close\")\n",
    ").withColumn(\"growth_rate\", (F.col(\"last_close\") - F.col(\"first_close\")) / F.col(\"first_close\"))\n",
    "\n",
    "growth.orderBy(F.desc(\"growth_rate\")).show(10, truncate=False)\n"
   ]
  },
  {
   "cell_type": "markdown",
   "id": "a0fef6d6-816a-42b7-b4b6-4da30268a6c6",
   "metadata": {},
   "source": [
    "## phân tích thanh khoản"
   ]
  },
  {
   "cell_type": "markdown",
   "id": "7119f277-f719-43fe-80be-23805ee3a7a8",
   "metadata": {},
   "source": [
    "Xác định các cổ phiếu có thanh khoản cao nhất (tức được giao dịch nhiều và thường xuyên nhất)."
   ]
  },
  {
   "cell_type": "code",
   "execution_count": 10,
   "id": "2aa41be5-a994-4ca2-b201-0ae39aba3aee",
   "metadata": {},
   "outputs": [
    {
     "name": "stdout",
     "output_type": "stream",
     "text": [
      "+------+--------------------+--------------------+\n",
      "|ticker|avg_volume          |avg_traded_value    |\n",
      "+------+--------------------+--------------------+\n",
      "|TCX   |1.4668E7            |7.179986E8          |\n",
      "|VPB   |1.2148206955479452E7|2.2870221234667817E8|\n",
      "|HPG   |1.0398341804160325E7|2.0345462962350082E8|\n",
      "|STB   |7991610.270167428   |1.9179722911278564E8|\n",
      "|TCB   |8567674.38332431    |1.886050708479156E8 |\n",
      "|ROS   |1.0106185350404313E7|1.7983698735936654E8|\n",
      "|NVL   |8444376.389368469   |1.762772615475012E8 |\n",
      "|SSI   |7810239.729325215   |1.5987470988124543E8|\n",
      "|GEX   |6777247.702204409   |1.534137762184927E8 |\n",
      "|VHM   |2408054.075512076   |1.4059804584106717E8|\n",
      "+------+--------------------+--------------------+\n",
      "only showing top 10 rows\n",
      "\n"
     ]
    }
   ],
   "source": [
    "liquidity = df.withColumn(\"traded_value\", F.col(\"close\") * F.col(\"volume\")) \\\n",
    "              .groupBy(\"ticker\") \\\n",
    "              .agg(\n",
    "                  F.mean(\"volume\").alias(\"avg_volume\"),\n",
    "                  F.mean(\"traded_value\").alias(\"avg_traded_value\")\n",
    "              ) \\\n",
    "              .orderBy(F.desc(\"avg_traded_value\"))\n",
    "\n",
    "liquidity.show(10, truncate=False)\n"
   ]
  },
  {
   "cell_type": "markdown",
   "id": "cc816293-920d-408c-8656-5dc93d22d247",
   "metadata": {},
   "source": [
    "## phân tích biến động theo tháng "
   ]
  },
  {
   "cell_type": "code",
   "execution_count": 11,
   "id": "7fd9a44b-a1e6-4028-a18b-e80b1245c1a5",
   "metadata": {},
   "outputs": [
    {
     "name": "stdout",
     "output_type": "stream",
     "text": [
      "+------+-----+----------------------+--------------------+\n",
      "|ticker|month|avg_month_return      |month_volatility    |\n",
      "+------+-----+----------------------+--------------------+\n",
      "|A32   |1    |0.005225978127063213  |0.046559763135155204|\n",
      "|A32   |2    |1.4260255430765634E-4 |0.06329855163773913 |\n",
      "|A32   |3    |-0.001903069602235603 |0.041724967354696794|\n",
      "|A32   |4    |0.0015482929124923446 |0.04702956155542099 |\n",
      "|A32   |5    |0.0012763706628027812 |0.03689349113546448 |\n",
      "|A32   |6    |3.775462781556017E-4  |0.03768769416938311 |\n",
      "|A32   |7    |0.002459934163447651  |0.04696042422424292 |\n",
      "|A32   |8    |0.002148001776672375  |0.03946234486016893 |\n",
      "|A32   |9    |0.00399768155289915   |0.040616274005141666|\n",
      "|A32   |10   |-0.0028582102800716195|0.04363906019026453 |\n",
      "|A32   |11   |0.002981947147462188  |0.04221551139035171 |\n",
      "|A32   |12   |0.0035379274108610684 |0.03973713650203381 |\n",
      "|AAA   |1    |0.0010904287479937202 |0.02653227652018985 |\n",
      "|AAA   |2    |0.0030968544760234832 |0.02803021002304573 |\n",
      "|AAA   |3    |4.942831285020446E-4  |0.02578230075631313 |\n",
      "|AAA   |4    |2.2099263230239657E-4 |0.02803183276725723 |\n",
      "|AAA   |5    |7.965329130743047E-4  |0.02900859702578488 |\n",
      "|AAA   |6    |0.0010186889789549863 |0.02637577423649819 |\n",
      "|AAA   |7    |5.894863792346425E-4  |0.023401730454812385|\n",
      "|AAA   |8    |0.0013400638313324216 |0.026450880794032322|\n",
      "+------+-----+----------------------+--------------------+\n",
      "only showing top 20 rows\n",
      "\n"
     ]
    }
   ],
   "source": [
    "df_month = df.withColumn(\"month\", F.month(\"time\"))\n",
    "monthly_stats = df_month.groupBy(\"ticker\", \"month\").agg(\n",
    "    F.mean(\"daily_return\").alias(\"avg_month_return\"),\n",
    "    F.stddev(\"daily_return\").alias(\"month_volatility\")\n",
    ").orderBy(\"ticker\", \"month\")\n",
    "\n",
    "monthly_stats.show(20, truncate=False)\n"
   ]
  },
  {
   "cell_type": "markdown",
   "id": "0412821c-d9fc-4998-b4a3-d250fe9a3b86",
   "metadata": {},
   "source": [
    "# 3. Phân tích 5 mã ticker tiêu biểu "
   ]
  },
  {
   "cell_type": "markdown",
   "id": "b122505f-9db1-40d9-9e9a-eab1b8eab24f",
   "metadata": {},
   "source": [
    "Thực hiện việc lựa chọn và kiểm tra dữ liệu của một số nhóm cổ phiếu cụ thể bao gồm FPT, VNM, HPG, SSI và VIC"
   ]
  },
  {
   "cell_type": "code",
   "execution_count": 12,
   "id": "d586d56c-71d7-447a-bef0-1ba1999731b1",
   "metadata": {},
   "outputs": [
    {
     "name": "stdout",
     "output_type": "stream",
     "text": [
      "+------+\n",
      "|ticker|\n",
      "+------+\n",
      "|   FPT|\n",
      "|   HPG|\n",
      "|   VNM|\n",
      "|   SSI|\n",
      "|   VIC|\n",
      "+------+\n",
      "\n"
     ]
    }
   ],
   "source": [
    "from pyspark.sql import functions as F\n",
    "\n",
    "tickers = ['FPT', 'VNM', 'HPG', 'SSI', 'VIC']\n",
    "df_5 = df.filter(F.col(\"ticker\").isin(tickers))\n",
    "\n",
    "df_5.select(\"ticker\").distinct().show()\n"
   ]
  },
  {
   "cell_type": "markdown",
   "id": "b15f8eab-fc12-441e-8341-b3350351119e",
   "metadata": {},
   "source": [
    "Thống kê các mô tả cơ bản của các mã cổ phiếu đã chọn FPT, VNM, HPG, SSI và VIC ( bao gồm giá đóng cửa trung bình(avg_close), độ lệch chuẩn của giá đóng cửa (std_close), giá đóng cửa cao nhất và thấp nhất(min_close và max_close), cuối cùng là khối lượng giao dịch trung bình )"
   ]
  },
  {
   "cell_type": "code",
   "execution_count": 13,
   "id": "7b884aec-dc2c-4025-a649-d87aafbe43a4",
   "metadata": {},
   "outputs": [
    {
     "name": "stdout",
     "output_type": "stream",
     "text": [
      "+------+------------------+------------------+---------+---------+--------------------+\n",
      "|ticker|avg_close         |std_close         |min_close|max_close|avg_volume          |\n",
      "+------+------------------+------------------+---------+---------+--------------------+\n",
      "|FPT   |28.369926433282615|32.483601491617165|3.57     |133.04   |1564311.0568239472  |\n",
      "|HPG   |9.851626078132933 |8.89236130282186  |0.6      |33.25    |1.0398341804160325E7|\n",
      "|VNM   |50.122851344495274|24.648344853601166|6.44     |102.22   |1361810.977422628   |\n",
      "|SSI   |11.547993404363236|8.706512899448555 |2.49     |41.45    |7810239.729325215   |\n",
      "|VIC   |49.737054794520574|34.594948047732544|7.9      |213.1    |1493911.061136479   |\n",
      "+------+------------------+------------------+---------+---------+--------------------+\n",
      "\n"
     ]
    }
   ],
   "source": [
    "summary_stats = df_5.groupBy(\"ticker\").agg(\n",
    "    F.mean(\"close\").alias(\"avg_close\"),\n",
    "    F.stddev(\"close\").alias(\"std_close\"),\n",
    "    F.min(\"close\").alias(\"min_close\"),\n",
    "    F.max(\"close\").alias(\"max_close\"),\n",
    "    F.mean(\"volume\").alias(\"avg_volume\")\n",
    ")\n",
    "\n",
    "summary_stats.show(truncate=False)"
   ]
  },
  {
   "cell_type": "markdown",
   "id": "cb4a9869-de11-496f-902f-66729443266f",
   "metadata": {},
   "source": [
    "## so sánh khối lượng giao dịch trung bình giữa các mã "
   ]
  },
  {
   "cell_type": "code",
   "execution_count": 14,
   "id": "88827c2a-169d-4622-a200-8766711794d9",
   "metadata": {},
   "outputs": [
    {
     "data": {
      "text/plain": [
       "<Figure size 720x360 with 0 Axes>"
      ]
     },
     "metadata": {},
     "output_type": "display_data"
    },
    {
     "data": {
      "image/png": "[encoded data removed]",
      "text/plain": [
       "<Figure size 720x360 with 1 Axes>"
      ]
     },
     "metadata": {
      "needs_background": "light"
     },
     "output_type": "display_data"
    }
   ],
   "source": [
    "import matplotlib.pyplot as plt\n",
    "pdf = summary_stats.toPandas()\n",
    "plt.figure(figsize=(10,5))\n",
    "plt.figure(figsize=(10,5))\n",
    "plt.bar(pdf['ticker'], pdf['avg_volume'], color='lightgreen')\n",
    "plt.title(\"So sánh khối lượng giao dịch trung bình giữa các cổ phiếu\")\n",
    "plt.xlabel(\"Mã cổ phiếu\")\n",
    "plt.ylabel(\"Khối lượng giao dịch trung bình\")\n",
    "plt.show()"
   ]
  },
  {
   "cell_type": "markdown",
   "id": "ad9c2cb6-0002-4475-b192-6e574b776eaa",
   "metadata": {},
   "source": [
    "## Đánh giá xu hướng sinh lời và mức độ biến động của từng cổ phiếu theo từng tháng "
   ]
  },
  {
   "cell_type": "code",
   "execution_count": 15,
   "id": "73e4d6d3-5037-4609-98af-78dce98c821c",
   "metadata": {},
   "outputs": [
    {
     "name": "stdout",
     "output_type": "stream",
     "text": [
      "+------+-----+---------------------+--------------------+\n",
      "|ticker|month|avg_month_return     |month_volatility    |\n",
      "+------+-----+---------------------+--------------------+\n",
      "|FPT   |1    |0.0010939435193916712|0.0173839355636725  |\n",
      "|FPT   |2    |0.0015338751935665346|0.018201807415793306|\n",
      "|FPT   |3    |1.0734979787274917E-4|0.016469398108933133|\n",
      "|FPT   |4    |0.001181781929161853 |0.019783605922233702|\n",
      "|FPT   |5    |0.0019565202485256963|0.021298833137766798|\n",
      "|FPT   |6    |6.704223407612924E-4 |0.015188529656569973|\n",
      "|FPT   |7    |0.0020737157414013646|0.01633632575014353 |\n",
      "|FPT   |8    |0.0016932128296507328|0.01646984187460699 |\n",
      "|FPT   |9    |-5.602898690396821E-4|0.013760151011192564|\n",
      "|FPT   |10   |-3.151667067749697E-4|0.014813397554525595|\n",
      "|FPT   |11   |5.705425723964688E-4 |0.015450522307227802|\n",
      "|FPT   |12   |6.068117085201158E-4 |0.012057741985287097|\n",
      "|HPG   |1    |0.0015378654946442637|0.023789993275002072|\n",
      "|HPG   |2    |0.002556330818054569 |0.02423449685173197 |\n",
      "|HPG   |3    |6.232362595218155E-5 |0.020880769053954213|\n",
      "|HPG   |4    |0.0026496162902188178|0.022163289677215967|\n",
      "|HPG   |5    |8.761482540206728E-4 |0.02267648660140335 |\n",
      "|HPG   |6    |7.237685679020132E-4 |0.020401072473971375|\n",
      "|HPG   |7    |5.072301232682203E-4 |0.019858173228698223|\n",
      "|HPG   |8    |0.001527800803349234 |0.020113460495891917|\n",
      "+------+-----+---------------------+--------------------+\n",
      "only showing top 20 rows\n",
      "\n"
     ]
    }
   ],
   "source": [
    "df_month = df_5.withColumn(\"month\", F.month(\"time\"))\n",
    "monthly_stats = df_month.groupBy(\"ticker\", \"month\").agg(\n",
    "    F.mean(\"daily_return\").alias(\"avg_month_return\"),\n",
    "    F.stddev(\"daily_return\").alias(\"month_volatility\")\n",
    ").orderBy(\"ticker\", \"month\")\n",
    "\n",
    "monthly_stats.show(20, truncate=False)"
   ]
  },
  {
   "cell_type": "markdown",
   "id": "38d9223a-ddd6-42ba-8df9-6a2f1c824fff",
   "metadata": {},
   "source": [
    "## Phân tích hiệu suất và rủi ro của 5 mã cổ phiếu "
   ]
  },
  {
   "cell_type": "code",
   "execution_count": 16,
   "id": "ee97b82f-3959-4428-a1db-989c2511962d",
   "metadata": {},
   "outputs": [
    {
     "name": "stdout",
     "output_type": "stream",
     "text": [
      "+------+--------------------+--------------------+\n",
      "|ticker|          avg_return|          volatility|\n",
      "+------+--------------------+--------------------+\n",
      "|   VIC| 9.87447514189449E-4|0.019548993961355433|\n",
      "|   HPG|9.565632453074821E-4|0.021140843428299524|\n",
      "|   FPT|8.783916184936556E-4|0.016559472500407645|\n",
      "|   SSI|6.631985054358985E-4| 0.02329601393018983|\n",
      "|   VNM|6.360802185766779E-4|0.014880219984359951|\n",
      "+------+--------------------+--------------------+\n",
      "\n"
     ]
    }
   ],
   "source": [
    "risk_return = df_5.groupBy(\"ticker\").agg(\n",
    "    F.mean(\"daily_return\").alias(\"avg_return\"),\n",
    "    F.stddev(\"daily_return\").alias(\"volatility\")\n",
    ").orderBy(F.desc(\"avg_return\"))\n",
    "\n",
    "risk_return.show()\n"
   ]
  },
  {
   "cell_type": "code",
   "execution_count": 17,
   "id": "dd861f72-1432-4c56-84c4-7bcb25cec298",
   "metadata": {},
   "outputs": [
    {
     "data": {
      "image/png": "[encoded data removed]",
      "text/plain": [
       "<Figure size 576x432 with 1 Axes>"
      ]
     },
     "metadata": {
      "needs_background": "light"
     },
     "output_type": "display_data"
    }
   ],
   "source": [
    "import matplotlib.pyplot as plt\n",
    "risk_return_pd = risk_return.toPandas()\n",
    "\n",
    "plt.figure(figsize=(8,6))\n",
    "plt.scatter(risk_return_pd[\"volatility\"], risk_return_pd[\"avg_return\"], color=\"dodgerblue\", s=100)\n",
    "for i, txt in enumerate(risk_return_pd[\"ticker\"]):\n",
    "    plt.text(risk_return_pd[\"volatility\"][i]*1.01, risk_return_pd[\"avg_return\"][i], txt, fontsize=10)\n",
    "plt.title(\"Risk vs Return (5 Stocks)\")\n",
    "plt.xlabel(\"Volatility (stddev of daily_return)\")\n",
    "plt.ylabel(\"Average Daily Return\")\n",
    "plt.grid(True)\n",
    "plt.show()\n"
   ]
  },
  {
   "cell_type": "markdown",
   "id": "ac2cc228-6972-4e2f-a1a9-f32e748fc406",
   "metadata": {},
   "source": [
    "## xu hướng giá trung bình theo thời gian "
   ]
  },
  {
   "cell_type": "code",
   "execution_count": 18,
   "id": "373114f9-82eb-474e-9a2d-d82e131383e5",
   "metadata": {},
   "outputs": [],
   "source": [
    "avg_price_time = df_5.groupBy(\"ticker\", \"time\").agg(F.mean(\"close\").alias(\"avg_close\"))"
   ]
  },
  {
   "cell_type": "code",
   "execution_count": 19,
   "id": "44796cef-56b3-43d4-bb45-5395d39a3740",
   "metadata": {},
   "outputs": [
    {
     "data": {
      "image/png": "[encoded data removed]",
      "text/plain": [
       "<Figure size 720x360 with 1 Axes>"
      ]
     },
     "metadata": {
      "needs_background": "light"
     },
     "output_type": "display_data"
    }
   ],
   "source": [
    "avg_price_pd = avg_price_time.toPandas()\n",
    "\n",
    "plt.figure(figsize=(10,5))\n",
    "for t in tickers:\n",
    "    subset = avg_price_pd[avg_price_pd[\"ticker\"] == t]\n",
    "    plt.plot(subset[\"time\"], subset[\"avg_close\"], label=t)\n",
    "\n",
    "plt.title(\"Average Closing Price Over Time (5 Stocks)\")\n",
    "plt.xlabel(\"Time\")\n",
    "plt.ylabel(\"Closing Price\")\n",
    "plt.legend()\n",
    "plt.grid(True)\n",
    "plt.show()"
   ]
  },
  {
   "cell_type": "markdown",
   "id": "4b620b48-f3e0-41cd-8f1a-b4e820c7734e",
   "metadata": {},
   "source": [
    "# 4 Dự đoán giá mã cổ phiếu FPT"
   ]
  },
  {
   "cell_type": "markdown",
   "id": "04a68188-72d5-4df5-a307-354a2a8fbdcd",
   "metadata": {},
   "source": [
    "## Chuẩn bị dữ liệu "
   ]
  },
  {
   "cell_type": "markdown",
   "id": "4de2c38c-5fbe-4155-8ea7-1ce5971003e9",
   "metadata": {},
   "source": [
    "Thực hiện lọc dữ liệu chỉ bao gồm mã cổ phiếu FPT,chuyển sang pandas và chia thành tập train/ test theo tỉ lệ 80-20 "
   ]
  },
  {
   "cell_type": "code",
   "execution_count": 20,
   "id": "8b54d3ff-50c2-4cd3-8a4f-ee8cb9b43ffd",
   "metadata": {},
   "outputs": [],
   "source": [
    "import pandas as pd\n",
    "import numpy as np\n",
    "from pyspark.sql import functions as F\n",
    "\n",
    "df_fpt_pd = df.filter(F.col(\"ticker\")==\"FPT\").orderBy(\"time\") \\\n",
    "              .select(\"time\", \"close\").toPandas()\n",
    "\n",
    "df_fpt_pd[\"close\"] = df_fpt_pd[\"close\"].astype(float)\n",
    "\n",
    "train_size = int(len(df_fpt_pd) * 0.8)\n",
    "train_data = df_fpt_pd.iloc[:train_size]\n",
    "test_data = df_fpt_pd.iloc[train_size:]\n"
   ]
  },
  {
   "cell_type": "markdown",
   "id": "456a22ff-3729-4424-9246-fd1f12a48aa8",
   "metadata": {},
   "source": [
    "Chuẩn hóa giá cổ phiếu FPT"
   ]
  },
  {
   "cell_type": "code",
   "execution_count": 21,
   "id": "126981e0-9469-4f3a-a2ba-1f6973fce504",
   "metadata": {},
   "outputs": [],
   "source": [
    "from sklearn.preprocessing import MinMaxScaler\n",
    "\n",
    "scaler = MinMaxScaler()\n",
    "train_scaled = scaler.fit_transform(train_data[[\"close\"]])\n",
    "test_scaled = scaler.transform(test_data[[\"close\"]])\n"
   ]
  },
  {
   "cell_type": "code",
   "execution_count": 22,
   "id": "daad724e-619e-456e-b919-5d20f4893e9d",
   "metadata": {},
   "outputs": [],
   "source": [
    "def create_sequences(data, seq_length):\n",
    "    X = []\n",
    "    y = []\n",
    "    for i in range(seq_length, len(data)):\n",
    "        X.append(data[i-seq_length:i, 0])\n",
    "        y.append(data[i, 0])\n",
    "    return np.array(X), np.array(y)\n",
    "\n",
    "seq_length = 20\n",
    "X_train, y_train = create_sequences(train_scaled, seq_length)\n",
    "X_test, y_test = create_sequences(test_scaled, seq_length)\n",
    "\n",
    "X_train = X_train.reshape(X_train.shape[0], X_train.shape[1], 1)\n",
    "X_test = X_test.reshape(X_test.shape[0], X_test.shape[1], 1)\n"
   ]
  },
  {
   "cell_type": "markdown",
   "id": "438c519b-f63e-44f9-96cd-a79076d0a4ff",
   "metadata": {},
   "source": [
    "## Xây dựng mô hình LSTM để dự đoán "
   ]
  },
  {
   "cell_type": "code",
   "execution_count": 23,
   "id": "8d127243-ddcf-4258-8096-0a9773e0c0ed",
   "metadata": {},
   "outputs": [
    {
     "name": "stdout",
     "output_type": "stream",
     "text": [
      "Model: \"sequential\"\n",
      "_________________________________________________________________\n",
      " Layer (type)                Output Shape              Param #   \n",
      "=================================================================\n",
      " lstm (LSTM)                 (None, 20, 50)            10400     \n",
      "                                                                 \n",
      " dropout (Dropout)           (None, 20, 50)            0         \n",
      "                                                                 \n",
      " lstm_1 (LSTM)               (None, 50)                20200     \n",
      "                                                                 \n",
      " dropout_1 (Dropout)         (None, 50)                0         \n",
      "                                                                 \n",
      " dense (Dense)               (None, 1)                 51        \n",
      "                                                                 \n",
      "=================================================================\n",
      "Total params: 30651 (119.73 KB)\n",
      "Trainable params: 30651 (119.73 KB)\n",
      "Non-trainable params: 0 (0.00 Byte)\n",
      "_________________________________________________________________\n"
     ]
    }
   ],
   "source": [
    "from tensorflow.keras.models import Sequential\n",
    "from tensorflow.keras.layers import LSTM, Dense, Dropout\n",
    "\n",
    "model = Sequential()\n",
    "model.add(LSTM(units=50, return_sequences=True, input_shape=(seq_length,1)))\n",
    "model.add(Dropout(0.2))\n",
    "model.add(LSTM(units=50))\n",
    "model.add(Dropout(0.2))\n",
    "model.add(Dense(1))\n",
    "\n",
    "model.compile(optimizer='adam', loss='mean_squared_error')\n",
    "model.summary()\n"
   ]
  },
  {
   "cell_type": "markdown",
   "id": "365489bb-607a-4ba3-8e72-7e32dcf56193",
   "metadata": {},
   "source": [
    "## Huấn luyện mô hình "
   ]
  },
  {
   "cell_type": "code",
   "execution_count": 24,
   "id": "1b6c87ac-babd-4daa-9046-f990ba1b6a4e",
   "metadata": {},
   "outputs": [
    {
     "name": "stdout",
     "output_type": "stream",
     "text": [
      "Epoch 1/50\n",
      "89/89 [==============================] - 6s 25ms/step - loss: 0.0011 - val_loss: 0.0138\n",
      "Epoch 2/50\n",
      "89/89 [==============================] - 2s 17ms/step - loss: 0.0045 - val_loss: 0.0064\n",
      "Epoch 3/50\n",
      "89/89 [==============================] - 2s 18ms/step - loss: 0.0025 - val_loss: 0.0128\n",
      "Epoch 4/50\n",
      "89/89 [==============================] - 2s 17ms/step - loss: 8.1547e-04 - val_loss: 0.0119\n",
      "Epoch 5/50\n",
      "89/89 [==============================] - 2s 19ms/step - loss: 5.6597e-04 - val_loss: 0.0032\n",
      "Epoch 6/50\n",
      "89/89 [==============================] - 2s 19ms/step - loss: 3.8141e-04 - val_loss: 0.0146\n",
      "Epoch 7/50\n",
      "89/89 [==============================] - 2s 17ms/step - loss: 8.4122e-04 - val_loss: 0.0018\n",
      "Epoch 8/50\n",
      "89/89 [==============================] - 1s 16ms/step - loss: 4.0387e-04 - val_loss: 0.0029\n",
      "Epoch 9/50\n",
      "89/89 [==============================] - 1s 17ms/step - loss: 8.6089e-04 - val_loss: 0.0163\n",
      "Epoch 10/50\n",
      "89/89 [==============================] - 1s 16ms/step - loss: 8.6885e-04 - val_loss: 0.0045\n",
      "Epoch 11/50\n",
      "89/89 [==============================] - 2s 18ms/step - loss: 3.5025e-04 - val_loss: 0.0148\n",
      "Epoch 12/50\n",
      "89/89 [==============================] - 2s 17ms/step - loss: 5.5104e-04 - val_loss: 0.0019\n",
      "Epoch 13/50\n",
      "89/89 [==============================] - 1s 15ms/step - loss: 4.0561e-04 - val_loss: 0.0034\n",
      "Epoch 14/50\n",
      "89/89 [==============================] - 1s 15ms/step - loss: 0.0012 - val_loss: 0.0039\n",
      "Epoch 15/50\n",
      "89/89 [==============================] - 1s 15ms/step - loss: 5.2552e-04 - val_loss: 0.0092\n",
      "Epoch 16/50\n",
      "89/89 [==============================] - 1s 16ms/step - loss: 5.4101e-04 - val_loss: 0.0060\n",
      "Epoch 17/50\n",
      "89/89 [==============================] - 2s 18ms/step - loss: 3.6611e-04 - val_loss: 0.0041\n",
      "Epoch 18/50\n",
      "89/89 [==============================] - 2s 18ms/step - loss: 5.0402e-04 - val_loss: 0.0093\n",
      "Epoch 19/50\n",
      "89/89 [==============================] - 1s 16ms/step - loss: 5.0514e-04 - val_loss: 0.0018\n",
      "Epoch 20/50\n",
      "89/89 [==============================] - 1s 15ms/step - loss: 3.8170e-04 - val_loss: 0.0071\n",
      "Epoch 21/50\n",
      "89/89 [==============================] - 1s 15ms/step - loss: 5.5460e-04 - val_loss: 0.0155\n",
      "Epoch 22/50\n",
      "89/89 [==============================] - 2s 17ms/step - loss: 6.0359e-04 - val_loss: 0.0019\n",
      "Epoch 23/50\n",
      "89/89 [==============================] - 1s 16ms/step - loss: 4.6452e-04 - val_loss: 0.0140\n",
      "Epoch 24/50\n",
      "89/89 [==============================] - 1s 16ms/step - loss: 0.0014 - val_loss: 0.0083\n",
      "Epoch 25/50\n",
      "89/89 [==============================] - 1s 15ms/step - loss: 3.8635e-04 - val_loss: 0.0025\n",
      "Epoch 26/50\n",
      "89/89 [==============================] - 1s 17ms/step - loss: 2.3832e-04 - val_loss: 0.0080\n",
      "Epoch 27/50\n",
      "89/89 [==============================] - 1s 16ms/step - loss: 5.3829e-04 - val_loss: 0.0024\n",
      "Epoch 28/50\n",
      "89/89 [==============================] - 1s 16ms/step - loss: 2.3824e-04 - val_loss: 0.0046\n",
      "Epoch 29/50\n",
      "89/89 [==============================] - 1s 15ms/step - loss: 3.3216e-04 - val_loss: 0.0155\n",
      "Epoch 30/50\n",
      "89/89 [==============================] - 1s 16ms/step - loss: 7.5003e-04 - val_loss: 0.0137\n",
      "Epoch 31/50\n",
      "89/89 [==============================] - 1s 17ms/step - loss: 2.5399e-04 - val_loss: 0.0154\n",
      "Epoch 32/50\n",
      "89/89 [==============================] - 1s 17ms/step - loss: 5.0748e-04 - val_loss: 0.0063\n",
      "Epoch 33/50\n",
      "89/89 [==============================] - 1s 16ms/step - loss: 3.5926e-04 - val_loss: 0.0038\n",
      "Epoch 34/50\n",
      "89/89 [==============================] - 1s 16ms/step - loss: 9.8629e-04 - val_loss: 0.0145\n",
      "Epoch 35/50\n",
      "89/89 [==============================] - 1s 17ms/step - loss: 2.6190e-04 - val_loss: 0.0072\n",
      "Epoch 36/50\n",
      "89/89 [==============================] - 1s 16ms/step - loss: 2.3539e-04 - val_loss: 0.0150\n",
      "Epoch 37/50\n",
      "89/89 [==============================] - 1s 16ms/step - loss: 3.2586e-04 - val_loss: 0.0015\n",
      "Epoch 38/50\n",
      "89/89 [==============================] - 1s 16ms/step - loss: 4.5385e-04 - val_loss: 0.0103\n",
      "Epoch 39/50\n",
      "89/89 [==============================] - 1s 16ms/step - loss: 0.0019 - val_loss: 0.0091\n",
      "Epoch 40/50\n",
      "89/89 [==============================] - 1s 16ms/step - loss: 5.0024e-04 - val_loss: 0.0049\n",
      "Epoch 41/50\n",
      "89/89 [==============================] - 1s 15ms/step - loss: 2.5577e-04 - val_loss: 0.0076\n",
      "Epoch 42/50\n",
      "89/89 [==============================] - 1s 15ms/step - loss: 3.1945e-04 - val_loss: 0.0034\n",
      "Epoch 43/50\n",
      "89/89 [==============================] - 1s 16ms/step - loss: 2.4542e-04 - val_loss: 0.0114\n",
      "Epoch 44/50\n",
      "89/89 [==============================] - 1s 16ms/step - loss: 5.8952e-04 - val_loss: 0.0032\n",
      "Epoch 45/50\n",
      "89/89 [==============================] - 1s 15ms/step - loss: 2.9610e-04 - val_loss: 0.0044\n",
      "Epoch 46/50\n",
      "89/89 [==============================] - 2s 18ms/step - loss: 8.6702e-04 - val_loss: 0.0113\n",
      "Epoch 47/50\n",
      "89/89 [==============================] - 2s 18ms/step - loss: 2.9459e-04 - val_loss: 0.0067\n",
      "Epoch 48/50\n",
      "89/89 [==============================] - 1s 16ms/step - loss: 2.7450e-04 - val_loss: 0.0034\n",
      "Epoch 49/50\n",
      "89/89 [==============================] - 1s 16ms/step - loss: 5.1486e-04 - val_loss: 0.0028\n",
      "Epoch 50/50\n",
      "89/89 [==============================] - 1s 16ms/step - loss: 6.4421e-04 - val_loss: 0.0040\n"
     ]
    }
   ],
   "source": [
    "history = model.fit(X_train, y_train, epochs=50, batch_size=32,\n",
    "                    validation_split=0.1, shuffle=False)"
   ]
  },
  {
   "cell_type": "code",
   "execution_count": 25,
   "id": "0e51b974-b036-4365-8117-8788b3975531",
   "metadata": {},
   "outputs": [
    {
     "name": "stdout",
     "output_type": "stream",
     "text": [
      "25/25 [==============================] - 1s 8ms/step\n"
     ]
    }
   ],
   "source": [
    "pred_scaled = model.predict(X_test)\n",
    "predicted = scaler.inverse_transform(pred_scaled)\n",
    "y_test_actual = scaler.inverse_transform(y_test.reshape(-1,1))\n"
   ]
  },
  {
   "cell_type": "code",
   "execution_count": 26,
   "id": "1f748804-6d94-4a84-bd27-993f10d324f3",
   "metadata": {},
   "outputs": [
    {
     "data": {
      "image/png": "[encoded data removed]",
      "text/plain": [
       "<Figure size 864x432 with 1 Axes>"
      ]
     },
     "metadata": {
      "needs_background": "light"
     },
     "output_type": "display_data"
    }
   ],
   "source": [
    "import matplotlib.pyplot as plt\n",
    "\n",
    "plt.figure(figsize=(12,6))\n",
    "plt.plot(test_data[\"time\"].iloc[seq_length:], y_test_actual, color='blue', label='Actual Close')\n",
    "plt.plot(test_data[\"time\"].iloc[seq_length:], predicted, color='red', linestyle='--', label='Predicted Close')\n",
    "plt.title('FPT Close Price Prediction using LSTM (Time-based Split)')\n",
    "plt.xlabel('Time')\n",
    "plt.ylabel('Price')\n",
    "plt.legend()\n",
    "plt.grid(True)\n",
    "plt.show()\n"
   ]
  }
 ],
 "metadata": {
  "kernelspec": {
   "display_name": "Python (tf_env)",
   "language": "python",
   "name": "tf_env"
  },
  "language_info": {
   "codemirror_mode": {
    "name": "ipython",
    "version": 3
   },
   "file_extension": ".py",
   "mimetype": "text/x-python",
   "name": "python",
   "nbconvert_exporter": "python",
   "pygments_lexer": "ipython3",
   "version": "3.10.5"
  }
 },
 "nbformat": 4,
 "nbformat_minor": 5
}
